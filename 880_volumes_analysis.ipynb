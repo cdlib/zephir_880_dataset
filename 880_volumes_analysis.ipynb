{
 "cells": [
  {
   "cell_type": "code",
   "execution_count": 4,
   "metadata": {},
   "outputs": [],
   "source": [
    "import pandas as pd\n",
    "df = pd.read_csv('880_volumes_dataset.csv')"
   ]
  },
  {
   "cell_type": "code",
   "execution_count": 5,
   "metadata": {},
   "outputs": [
    {
     "name": "stdout",
     "output_type": "stream",
     "text": [
      "<class 'pandas.core.frame.DataFrame'>\n",
      "RangeIndex: 1311247 entries, 0 to 1311246\n",
      "Data columns (total 8 columns):\n",
      " #   Column         Non-Null Count    Dtype  \n",
      "---  ------         --------------    -----  \n",
      " 0   cid            1311247 non-null  int64  \n",
      " 1   namespace      1311247 non-null  object \n",
      " 2   contribsys_id  1311247 non-null  object \n",
      " 3   htid           1311247 non-null  object \n",
      " 4   language       1311196 non-null  object \n",
      " 5   var_usfeddoc   1311247 non-null  int64  \n",
      " 6   var_score      1310039 non-null  float64\n",
      " 7   vufind_sort    1311247 non-null  object \n",
      "dtypes: float64(1), int64(2), object(5)\n",
      "memory usage: 80.0+ MB\n"
     ]
    }
   ],
   "source": [
    "df.info()"
   ]
  },
  {
   "cell_type": "code",
   "execution_count": 6,
   "metadata": {},
   "outputs": [
    {
     "name": "stdout",
     "output_type": "stream",
     "text": [
      "Total number of volumes in 880 analysis 1311247\n"
     ]
    }
   ],
   "source": [
    "print(\"Total number of volumes in 880 analysis\", len(df))"
   ]
  }
 ],
 "metadata": {
  "kernelspec": {
   "display_name": "zephir-880-dataset-sUOzJBGp-py3.12",
   "language": "python",
   "name": "python3"
  },
  "language_info": {
   "codemirror_mode": {
    "name": "ipython",
    "version": 3
   },
   "file_extension": ".py",
   "mimetype": "text/x-python",
   "name": "python",
   "nbconvert_exporter": "python",
   "pygments_lexer": "ipython3",
   "version": "3.12.3"
  }
 },
 "nbformat": 4,
 "nbformat_minor": 2
}
